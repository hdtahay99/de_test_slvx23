{
 "cells": [
  {
   "cell_type": "markdown",
   "metadata": {},
   "source": [
    "# Data Engineering Test - Solvex 2023\n",
    "\n",
    "Candidate: Heansell Diosymar Tahay Menchú"
   ]
  },
  {
   "cell_type": "code",
   "execution_count": 1,
   "metadata": {},
   "outputs": [],
   "source": [
    "import os\n",
    "import requests\n",
    "import matplotlib.pyplot as plt\n",
    "import pandas as pd\n",
    "from pyspark.sql import SparkSession\n",
    "from pyspark.sql import functions as func\n",
    "from pyspark.sql.types import StructType, StructField, StringType, IntegerType, DoubleType\n",
    "from bs4 import BeautifulSoup"
   ]
  },
  {
   "cell_type": "markdown",
   "metadata": {},
   "source": [
    "## Global utils"
   ]
  },
  {
   "cell_type": "code",
   "execution_count": 2,
   "metadata": {},
   "outputs": [],
   "source": [
    "## directory variables\n",
    "covid_directory  = 'covid_files/'\n",
    "flight_directory = 'flight_files/T_ONTIME_REPORTING.csv'\n",
    "movie_directory  = 'movie_rating/'\n",
    "url_bitcoin      = 'https://coinmarketcap.com/currencies/bitcoin/'"
   ]
  },
  {
   "cell_type": "code",
   "execution_count": 3,
   "metadata": {},
   "outputs": [],
   "source": [
    "## Helper functions\n",
    "\n",
    "def get_file_path(directory):\n",
    "    \"\"\"\n",
    "    Listing all files within the directory.. \n",
    "\n",
    "    Parameters\n",
    "    ----------\n",
    "\n",
    "    directory : string\n",
    "                The directory path where the target files are located.\n",
    "\n",
    "    Return\n",
    "    ------\n",
    "\n",
    "    file_paths : list\n",
    "                A list containing all the file paths mapped from the director. \n",
    "    \"\"\"\n",
    "\n",
    "    file_paths = []\n",
    "\n",
    "    for file_name in os.listdir(directory):\n",
    "        file_path = os.path.join(directory, file_name)\n",
    "\n",
    "        if os.path.isfile(file_path) and file_name.endswith('.csv'):\n",
    "            file_paths.append(file_path)\n",
    "\n",
    "    return file_paths"
   ]
  },
  {
   "cell_type": "markdown",
   "metadata": {},
   "source": [
    "## Exercise 1 - Pandas Assessment"
   ]
  },
  {
   "cell_type": "code",
   "execution_count": 4,
   "metadata": {},
   "outputs": [
    {
     "name": "stdout",
     "output_type": "stream",
     "text": [
      "Number of covid files listed: 1143\n"
     ]
    }
   ],
   "source": [
    "covid_files = get_file_path(covid_directory)\n",
    "print(f\"Number of covid files listed: {len(covid_files)}\")"
   ]
  },
  {
   "cell_type": "code",
   "execution_count": 5,
   "metadata": {},
   "outputs": [],
   "source": [
    "## Merge all the files into a dataframe\n",
    "\n",
    "dataframes = []\n",
    "\n",
    "for file in covid_files:\n",
    "    date = os.path.splitext(os.path.basename(file))[0]\n",
    "    date = pd.to_datetime(date, format='%m-%d-%Y')\n",
    "\n",
    "\n",
    "    df         = pd.read_csv(file, delimiter=',', encoding='utf-8')\n",
    "    df['date'] = date\n",
    "\n",
    "    dataframes.append(df)\n",
    "\n",
    "df = pd.concat(dataframes, ignore_index=True)"
   ]
  },
  {
   "cell_type": "code",
   "execution_count": 6,
   "metadata": {},
   "outputs": [
    {
     "data": {
      "text/plain": [
       "(4287473, 22)"
      ]
     },
     "execution_count": 6,
     "metadata": {},
     "output_type": "execute_result"
    }
   ],
   "source": [
    "## Get the shape of the dataframe\n",
    "df.shape"
   ]
  },
  {
   "cell_type": "code",
   "execution_count": 7,
   "metadata": {},
   "outputs": [
    {
     "data": {
      "text/plain": [
       "Index(['FIPS', 'Admin2', 'Province_State', 'Country_Region', 'Last_Update',\n",
       "       'Lat', 'Long_', 'Confirmed', 'Deaths', 'Recovered', 'Active',\n",
       "       'Combined_Key', 'Incident_Rate', 'Case_Fatality_Ratio', 'date',\n",
       "       'Province/State', 'Country/Region', 'Last Update', 'Incidence_Rate',\n",
       "       'Case-Fatality_Ratio', 'Latitude', 'Longitude'],\n",
       "      dtype='object')"
      ]
     },
     "execution_count": 7,
     "metadata": {},
     "output_type": "execute_result"
    }
   ],
   "source": [
    "## Print the columns\n",
    "df.columns"
   ]
  },
  {
   "cell_type": "markdown",
   "metadata": {},
   "source": [
    "#### Task: 'Calcula el promedio de casos confirmados por día en un país específico.'"
   ]
  },
  {
   "cell_type": "code",
   "execution_count": 8,
   "metadata": {},
   "outputs": [],
   "source": [
    "## EDA of China\n",
    "df_china = df[df['Country_Region'] == 'China'].copy()"
   ]
  },
  {
   "cell_type": "code",
   "execution_count": 9,
   "metadata": {},
   "outputs": [
    {
     "data": {
      "text/plain": [
       "(36822, 22)"
      ]
     },
     "execution_count": 9,
     "metadata": {},
     "output_type": "execute_result"
    }
   ],
   "source": [
    "df_china.shape"
   ]
  },
  {
   "cell_type": "code",
   "execution_count": 10,
   "metadata": {},
   "outputs": [
    {
     "data": {
      "text/html": [
       "<div>\n",
       "<style scoped>\n",
       "    .dataframe tbody tr th:only-of-type {\n",
       "        vertical-align: middle;\n",
       "    }\n",
       "\n",
       "    .dataframe tbody tr th {\n",
       "        vertical-align: top;\n",
       "    }\n",
       "\n",
       "    .dataframe thead th {\n",
       "        text-align: right;\n",
       "    }\n",
       "</style>\n",
       "<table border=\"1\" class=\"dataframe\">\n",
       "  <thead>\n",
       "    <tr style=\"text-align: right;\">\n",
       "      <th></th>\n",
       "      <th>FIPS</th>\n",
       "      <th>Admin2</th>\n",
       "      <th>Province_State</th>\n",
       "      <th>Country_Region</th>\n",
       "      <th>Last_Update</th>\n",
       "      <th>Lat</th>\n",
       "      <th>Long_</th>\n",
       "      <th>Confirmed</th>\n",
       "      <th>Deaths</th>\n",
       "      <th>Recovered</th>\n",
       "      <th>...</th>\n",
       "      <th>Incident_Rate</th>\n",
       "      <th>Case_Fatality_Ratio</th>\n",
       "      <th>date</th>\n",
       "      <th>Province/State</th>\n",
       "      <th>Country/Region</th>\n",
       "      <th>Last Update</th>\n",
       "      <th>Incidence_Rate</th>\n",
       "      <th>Case-Fatality_Ratio</th>\n",
       "      <th>Latitude</th>\n",
       "      <th>Longitude</th>\n",
       "    </tr>\n",
       "  </thead>\n",
       "  <tbody>\n",
       "    <tr>\n",
       "      <th>111</th>\n",
       "      <td>NaN</td>\n",
       "      <td>NaN</td>\n",
       "      <td>Anhui</td>\n",
       "      <td>China</td>\n",
       "      <td>2022-01-22 04:21:13</td>\n",
       "      <td>31.8257</td>\n",
       "      <td>117.2264</td>\n",
       "      <td>1009.0</td>\n",
       "      <td>6.0</td>\n",
       "      <td>NaN</td>\n",
       "      <td>...</td>\n",
       "      <td>1.595509</td>\n",
       "      <td>0.594648</td>\n",
       "      <td>2022-01-21</td>\n",
       "      <td>NaN</td>\n",
       "      <td>NaN</td>\n",
       "      <td>NaN</td>\n",
       "      <td>NaN</td>\n",
       "      <td>NaN</td>\n",
       "      <td>NaN</td>\n",
       "      <td>NaN</td>\n",
       "    </tr>\n",
       "    <tr>\n",
       "      <th>112</th>\n",
       "      <td>NaN</td>\n",
       "      <td>NaN</td>\n",
       "      <td>Beijing</td>\n",
       "      <td>China</td>\n",
       "      <td>2022-01-22 04:21:13</td>\n",
       "      <td>40.1824</td>\n",
       "      <td>116.4142</td>\n",
       "      <td>1258.0</td>\n",
       "      <td>9.0</td>\n",
       "      <td>NaN</td>\n",
       "      <td>...</td>\n",
       "      <td>5.840297</td>\n",
       "      <td>0.715421</td>\n",
       "      <td>2022-01-21</td>\n",
       "      <td>NaN</td>\n",
       "      <td>NaN</td>\n",
       "      <td>NaN</td>\n",
       "      <td>NaN</td>\n",
       "      <td>NaN</td>\n",
       "      <td>NaN</td>\n",
       "      <td>NaN</td>\n",
       "    </tr>\n",
       "    <tr>\n",
       "      <th>113</th>\n",
       "      <td>NaN</td>\n",
       "      <td>NaN</td>\n",
       "      <td>Chongqing</td>\n",
       "      <td>China</td>\n",
       "      <td>2022-01-22 04:21:13</td>\n",
       "      <td>30.0572</td>\n",
       "      <td>107.8740</td>\n",
       "      <td>611.0</td>\n",
       "      <td>6.0</td>\n",
       "      <td>NaN</td>\n",
       "      <td>...</td>\n",
       "      <td>1.969697</td>\n",
       "      <td>0.981997</td>\n",
       "      <td>2022-01-21</td>\n",
       "      <td>NaN</td>\n",
       "      <td>NaN</td>\n",
       "      <td>NaN</td>\n",
       "      <td>NaN</td>\n",
       "      <td>NaN</td>\n",
       "      <td>NaN</td>\n",
       "      <td>NaN</td>\n",
       "    </tr>\n",
       "    <tr>\n",
       "      <th>114</th>\n",
       "      <td>NaN</td>\n",
       "      <td>NaN</td>\n",
       "      <td>Fujian</td>\n",
       "      <td>China</td>\n",
       "      <td>2022-01-22 04:21:13</td>\n",
       "      <td>26.0789</td>\n",
       "      <td>117.9874</td>\n",
       "      <td>1450.0</td>\n",
       "      <td>1.0</td>\n",
       "      <td>NaN</td>\n",
       "      <td>...</td>\n",
       "      <td>3.679269</td>\n",
       "      <td>0.068966</td>\n",
       "      <td>2022-01-21</td>\n",
       "      <td>NaN</td>\n",
       "      <td>NaN</td>\n",
       "      <td>NaN</td>\n",
       "      <td>NaN</td>\n",
       "      <td>NaN</td>\n",
       "      <td>NaN</td>\n",
       "      <td>NaN</td>\n",
       "    </tr>\n",
       "    <tr>\n",
       "      <th>115</th>\n",
       "      <td>NaN</td>\n",
       "      <td>NaN</td>\n",
       "      <td>Gansu</td>\n",
       "      <td>China</td>\n",
       "      <td>2022-01-22 04:21:13</td>\n",
       "      <td>35.7518</td>\n",
       "      <td>104.2861</td>\n",
       "      <td>356.0</td>\n",
       "      <td>2.0</td>\n",
       "      <td>NaN</td>\n",
       "      <td>...</td>\n",
       "      <td>1.350019</td>\n",
       "      <td>0.561798</td>\n",
       "      <td>2022-01-21</td>\n",
       "      <td>NaN</td>\n",
       "      <td>NaN</td>\n",
       "      <td>NaN</td>\n",
       "      <td>NaN</td>\n",
       "      <td>NaN</td>\n",
       "      <td>NaN</td>\n",
       "      <td>NaN</td>\n",
       "    </tr>\n",
       "    <tr>\n",
       "      <th>116</th>\n",
       "      <td>NaN</td>\n",
       "      <td>NaN</td>\n",
       "      <td>Guangdong</td>\n",
       "      <td>China</td>\n",
       "      <td>2022-01-22 04:21:13</td>\n",
       "      <td>23.3417</td>\n",
       "      <td>113.4244</td>\n",
       "      <td>3710.0</td>\n",
       "      <td>8.0</td>\n",
       "      <td>NaN</td>\n",
       "      <td>...</td>\n",
       "      <td>3.269875</td>\n",
       "      <td>0.215633</td>\n",
       "      <td>2022-01-21</td>\n",
       "      <td>NaN</td>\n",
       "      <td>NaN</td>\n",
       "      <td>NaN</td>\n",
       "      <td>NaN</td>\n",
       "      <td>NaN</td>\n",
       "      <td>NaN</td>\n",
       "      <td>NaN</td>\n",
       "    </tr>\n",
       "    <tr>\n",
       "      <th>117</th>\n",
       "      <td>NaN</td>\n",
       "      <td>NaN</td>\n",
       "      <td>Guangxi</td>\n",
       "      <td>China</td>\n",
       "      <td>2022-01-22 04:21:13</td>\n",
       "      <td>23.8298</td>\n",
       "      <td>108.7881</td>\n",
       "      <td>693.0</td>\n",
       "      <td>2.0</td>\n",
       "      <td>NaN</td>\n",
       "      <td>...</td>\n",
       "      <td>1.406821</td>\n",
       "      <td>0.288600</td>\n",
       "      <td>2022-01-21</td>\n",
       "      <td>NaN</td>\n",
       "      <td>NaN</td>\n",
       "      <td>NaN</td>\n",
       "      <td>NaN</td>\n",
       "      <td>NaN</td>\n",
       "      <td>NaN</td>\n",
       "      <td>NaN</td>\n",
       "    </tr>\n",
       "    <tr>\n",
       "      <th>118</th>\n",
       "      <td>NaN</td>\n",
       "      <td>NaN</td>\n",
       "      <td>Guizhou</td>\n",
       "      <td>China</td>\n",
       "      <td>2022-01-22 04:21:13</td>\n",
       "      <td>26.8154</td>\n",
       "      <td>106.8748</td>\n",
       "      <td>160.0</td>\n",
       "      <td>2.0</td>\n",
       "      <td>NaN</td>\n",
       "      <td>...</td>\n",
       "      <td>0.444444</td>\n",
       "      <td>1.250000</td>\n",
       "      <td>2022-01-21</td>\n",
       "      <td>NaN</td>\n",
       "      <td>NaN</td>\n",
       "      <td>NaN</td>\n",
       "      <td>NaN</td>\n",
       "      <td>NaN</td>\n",
       "      <td>NaN</td>\n",
       "      <td>NaN</td>\n",
       "    </tr>\n",
       "    <tr>\n",
       "      <th>119</th>\n",
       "      <td>NaN</td>\n",
       "      <td>NaN</td>\n",
       "      <td>Hainan</td>\n",
       "      <td>China</td>\n",
       "      <td>2022-01-22 04:21:13</td>\n",
       "      <td>19.1959</td>\n",
       "      <td>109.7453</td>\n",
       "      <td>190.0</td>\n",
       "      <td>6.0</td>\n",
       "      <td>NaN</td>\n",
       "      <td>...</td>\n",
       "      <td>2.034261</td>\n",
       "      <td>3.157895</td>\n",
       "      <td>2022-01-21</td>\n",
       "      <td>NaN</td>\n",
       "      <td>NaN</td>\n",
       "      <td>NaN</td>\n",
       "      <td>NaN</td>\n",
       "      <td>NaN</td>\n",
       "      <td>NaN</td>\n",
       "      <td>NaN</td>\n",
       "    </tr>\n",
       "    <tr>\n",
       "      <th>120</th>\n",
       "      <td>NaN</td>\n",
       "      <td>NaN</td>\n",
       "      <td>Hebei</td>\n",
       "      <td>China</td>\n",
       "      <td>2022-01-22 04:21:13</td>\n",
       "      <td>37.8957</td>\n",
       "      <td>114.9042</td>\n",
       "      <td>1458.0</td>\n",
       "      <td>7.0</td>\n",
       "      <td>NaN</td>\n",
       "      <td>...</td>\n",
       "      <td>1.929592</td>\n",
       "      <td>0.480110</td>\n",
       "      <td>2022-01-21</td>\n",
       "      <td>NaN</td>\n",
       "      <td>NaN</td>\n",
       "      <td>NaN</td>\n",
       "      <td>NaN</td>\n",
       "      <td>NaN</td>\n",
       "      <td>NaN</td>\n",
       "      <td>NaN</td>\n",
       "    </tr>\n",
       "  </tbody>\n",
       "</table>\n",
       "<p>10 rows × 22 columns</p>\n",
       "</div>"
      ],
      "text/plain": [
       "     FIPS Admin2 Province_State Country_Region          Last_Update      Lat  \\\n",
       "111   NaN    NaN          Anhui          China  2022-01-22 04:21:13  31.8257   \n",
       "112   NaN    NaN        Beijing          China  2022-01-22 04:21:13  40.1824   \n",
       "113   NaN    NaN      Chongqing          China  2022-01-22 04:21:13  30.0572   \n",
       "114   NaN    NaN         Fujian          China  2022-01-22 04:21:13  26.0789   \n",
       "115   NaN    NaN          Gansu          China  2022-01-22 04:21:13  35.7518   \n",
       "116   NaN    NaN      Guangdong          China  2022-01-22 04:21:13  23.3417   \n",
       "117   NaN    NaN        Guangxi          China  2022-01-22 04:21:13  23.8298   \n",
       "118   NaN    NaN        Guizhou          China  2022-01-22 04:21:13  26.8154   \n",
       "119   NaN    NaN         Hainan          China  2022-01-22 04:21:13  19.1959   \n",
       "120   NaN    NaN          Hebei          China  2022-01-22 04:21:13  37.8957   \n",
       "\n",
       "        Long_  Confirmed  Deaths  Recovered  ...  Incident_Rate  \\\n",
       "111  117.2264     1009.0     6.0        NaN  ...       1.595509   \n",
       "112  116.4142     1258.0     9.0        NaN  ...       5.840297   \n",
       "113  107.8740      611.0     6.0        NaN  ...       1.969697   \n",
       "114  117.9874     1450.0     1.0        NaN  ...       3.679269   \n",
       "115  104.2861      356.0     2.0        NaN  ...       1.350019   \n",
       "116  113.4244     3710.0     8.0        NaN  ...       3.269875   \n",
       "117  108.7881      693.0     2.0        NaN  ...       1.406821   \n",
       "118  106.8748      160.0     2.0        NaN  ...       0.444444   \n",
       "119  109.7453      190.0     6.0        NaN  ...       2.034261   \n",
       "120  114.9042     1458.0     7.0        NaN  ...       1.929592   \n",
       "\n",
       "    Case_Fatality_Ratio       date  Province/State Country/Region Last Update  \\\n",
       "111            0.594648 2022-01-21             NaN            NaN         NaN   \n",
       "112            0.715421 2022-01-21             NaN            NaN         NaN   \n",
       "113            0.981997 2022-01-21             NaN            NaN         NaN   \n",
       "114            0.068966 2022-01-21             NaN            NaN         NaN   \n",
       "115            0.561798 2022-01-21             NaN            NaN         NaN   \n",
       "116            0.215633 2022-01-21             NaN            NaN         NaN   \n",
       "117            0.288600 2022-01-21             NaN            NaN         NaN   \n",
       "118            1.250000 2022-01-21             NaN            NaN         NaN   \n",
       "119            3.157895 2022-01-21             NaN            NaN         NaN   \n",
       "120            0.480110 2022-01-21             NaN            NaN         NaN   \n",
       "\n",
       "    Incidence_Rate Case-Fatality_Ratio  Latitude  Longitude  \n",
       "111            NaN                 NaN       NaN        NaN  \n",
       "112            NaN                 NaN       NaN        NaN  \n",
       "113            NaN                 NaN       NaN        NaN  \n",
       "114            NaN                 NaN       NaN        NaN  \n",
       "115            NaN                 NaN       NaN        NaN  \n",
       "116            NaN                 NaN       NaN        NaN  \n",
       "117            NaN                 NaN       NaN        NaN  \n",
       "118            NaN                 NaN       NaN        NaN  \n",
       "119            NaN                 NaN       NaN        NaN  \n",
       "120            NaN                 NaN       NaN        NaN  \n",
       "\n",
       "[10 rows x 22 columns]"
      ]
     },
     "execution_count": 10,
     "metadata": {},
     "output_type": "execute_result"
    }
   ],
   "source": [
    "df_china.head(10)"
   ]
  },
  {
   "cell_type": "code",
   "execution_count": 11,
   "metadata": {},
   "outputs": [],
   "source": [
    "## Get the average of confirmed cases by day (date)\n",
    "confirmed_mean = df_china.groupby(['date'])['Confirmed'].agg(['mean'])"
   ]
  },
  {
   "cell_type": "code",
   "execution_count": 12,
   "metadata": {},
   "outputs": [
    {
     "data": {
      "text/html": [
       "<div>\n",
       "<style scoped>\n",
       "    .dataframe tbody tr th:only-of-type {\n",
       "        vertical-align: middle;\n",
       "    }\n",
       "\n",
       "    .dataframe tbody tr th {\n",
       "        vertical-align: top;\n",
       "    }\n",
       "\n",
       "    .dataframe thead th {\n",
       "        text-align: right;\n",
       "    }\n",
       "</style>\n",
       "<table border=\"1\" class=\"dataframe\">\n",
       "  <thead>\n",
       "    <tr style=\"text-align: right;\">\n",
       "      <th></th>\n",
       "      <th>mean</th>\n",
       "    </tr>\n",
       "    <tr>\n",
       "      <th>date</th>\n",
       "      <th></th>\n",
       "    </tr>\n",
       "  </thead>\n",
       "  <tbody>\n",
       "    <tr>\n",
       "      <th>2020-03-22</th>\n",
       "      <td>2394.029412</td>\n",
       "    </tr>\n",
       "    <tr>\n",
       "      <th>2020-03-23</th>\n",
       "      <td>2396.794118</td>\n",
       "    </tr>\n",
       "    <tr>\n",
       "      <th>2020-03-24</th>\n",
       "      <td>2399.617647</td>\n",
       "    </tr>\n",
       "    <tr>\n",
       "      <th>2020-03-25</th>\n",
       "      <td>2401.705882</td>\n",
       "    </tr>\n",
       "    <tr>\n",
       "      <th>2020-03-26</th>\n",
       "      <td>2405.323529</td>\n",
       "    </tr>\n",
       "    <tr>\n",
       "      <th>2020-03-27</th>\n",
       "      <td>2408.000000</td>\n",
       "    </tr>\n",
       "    <tr>\n",
       "      <th>2020-03-28</th>\n",
       "      <td>2410.705882</td>\n",
       "    </tr>\n",
       "    <tr>\n",
       "      <th>2020-03-29</th>\n",
       "      <td>2413.470588</td>\n",
       "    </tr>\n",
       "    <tr>\n",
       "      <th>2020-03-30</th>\n",
       "      <td>2415.852941</td>\n",
       "    </tr>\n",
       "    <tr>\n",
       "      <th>2020-03-31</th>\n",
       "      <td>2464.294118</td>\n",
       "    </tr>\n",
       "  </tbody>\n",
       "</table>\n",
       "</div>"
      ],
      "text/plain": [
       "                   mean\n",
       "date                   \n",
       "2020-03-22  2394.029412\n",
       "2020-03-23  2396.794118\n",
       "2020-03-24  2399.617647\n",
       "2020-03-25  2401.705882\n",
       "2020-03-26  2405.323529\n",
       "2020-03-27  2408.000000\n",
       "2020-03-28  2410.705882\n",
       "2020-03-29  2413.470588\n",
       "2020-03-30  2415.852941\n",
       "2020-03-31  2464.294118"
      ]
     },
     "execution_count": 12,
     "metadata": {},
     "output_type": "execute_result"
    }
   ],
   "source": [
    "## Print the 10 first ascending\n",
    "confirmed_mean.sort_values(by='mean', ascending=True).head(10)"
   ]
  },
  {
   "cell_type": "code",
   "execution_count": 13,
   "metadata": {},
   "outputs": [
    {
     "data": {
      "text/plain": [
       "<Figure size 1000x600 with 0 Axes>"
      ]
     },
     "metadata": {},
     "output_type": "display_data"
    },
    {
     "data": {
      "image/png": "[encoded data removed]",
      "text/plain": [
       "<Figure size 640x480 with 1 Axes>"
      ]
     },
     "metadata": {},
     "output_type": "display_data"
    }
   ],
   "source": [
    "plt.figure(figsize=(10, 6))\n",
    "confirmed_mean.sort_values(by='mean', ascending=True).head(10).plot(kind='bar', color='skyblue')\n",
    "plt.title('China - Top 10 Ascending Average Confirmed Cases by Date')\n",
    "plt.xlabel('Date')\n",
    "plt.ylabel('Average Confirmed Cases')\n",
    "plt.xticks(rotation=45, ha='right')\n",
    "plt.tight_layout()\n",
    "plt.show()"
   ]
  },
  {
   "cell_type": "markdown",
   "metadata": {},
   "source": [
    "### Task: 'Encuentra los 10 países con la tasa de mortalidad más alta hasta la fecha.'"
   ]
  },
  {
   "cell_type": "code",
   "execution_count": 14,
   "metadata": {},
   "outputs": [
    {
     "data": {
      "text/plain": [
       "Confirmed     28\n",
       "Deaths       433\n",
       "dtype: int64"
      ]
     },
     "execution_count": 14,
     "metadata": {},
     "output_type": "execute_result"
    }
   ],
   "source": [
    "## Clean up the 'Confirmed' and 'Deaths' columns\n",
    "\n",
    "df[['Confirmed', 'Deaths']].isna().sum()"
   ]
  },
  {
   "cell_type": "code",
   "execution_count": 15,
   "metadata": {},
   "outputs": [],
   "source": [
    "df[['Confirmed', 'Deaths']] = df[['Confirmed', 'Deaths']].fillna(0)"
   ]
  },
  {
   "cell_type": "code",
   "execution_count": 16,
   "metadata": {},
   "outputs": [
    {
     "data": {
      "text/plain": [
       "Confirmed    0\n",
       "Deaths       0\n",
       "dtype: int64"
      ]
     },
     "execution_count": 16,
     "metadata": {},
     "output_type": "execute_result"
    }
   ],
   "source": [
    "df[['Confirmed', 'Deaths']].isna().sum()"
   ]
  },
  {
   "cell_type": "code",
   "execution_count": 17,
   "metadata": {},
   "outputs": [],
   "source": [
    "df_mortality = df.groupby(['Country_Region'])[['Confirmed', 'Deaths']].agg(['sum']).copy()"
   ]
  },
  {
   "cell_type": "code",
   "execution_count": 18,
   "metadata": {},
   "outputs": [],
   "source": [
    "df_mortality['Mortality_Rate'] = (df_mortality['Deaths'] / df_mortality['Confirmed']) * 100"
   ]
  },
  {
   "cell_type": "code",
   "execution_count": 19,
   "metadata": {},
   "outputs": [
    {
     "data": {
      "text/plain": [
       "Country_Region\n",
       "MS Zaandam                22.203828\n",
       "Yemen                     19.232927\n",
       "Sudan                      7.408319\n",
       "Peru                       6.831597\n",
       "Mexico                     6.112509\n",
       "Syria                      5.858410\n",
       "Egypt                      5.155101\n",
       "Somalia                    5.025285\n",
       "Ecuador                    4.526547\n",
       "Bosnia and Herzegovina     4.179206\n",
       "Name: Mortality_Rate, dtype: float64"
      ]
     },
     "execution_count": 19,
     "metadata": {},
     "output_type": "execute_result"
    }
   ],
   "source": [
    "## Filter the countries where the mortality rate is greater than 0.5\n",
    "## This filter is in order to discard the mortality rate outliers.\n",
    "\n",
    "df_mortality[df_mortality['Mortality_Rate'] <= 0.5 * 100]\\\n",
    "    ['Mortality_Rate'].sort_values(ascending=False).head(10)"
   ]
  },
  {
   "cell_type": "markdown",
   "metadata": {},
   "source": [
    "## Exercise 2 - Spark Assessment"
   ]
  },
  {
   "cell_type": "code",
   "execution_count": 41,
   "metadata": {},
   "outputs": [
    {
     "name": "stderr",
     "output_type": "stream",
     "text": [
      "23/11/08 23:37:12 WARN SparkSession: Using an existing Spark session; only runtime SQL configurations will take effect.\n"
     ]
    }
   ],
   "source": [
    "spark = SparkSession.builder.appName('FlightAnalyze').getOrCreate()"
   ]
  },
  {
   "cell_type": "code",
   "execution_count": 42,
   "metadata": {},
   "outputs": [],
   "source": [
    "flight_schema = StructType([\\\n",
    "        StructField('YEAR', IntegerType(), True), \\\n",
    "        StructField('MONTH', IntegerType(), True), \\\n",
    "        StructField('DAY_OF_MONTH', IntegerType(), True), \\\n",
    "        StructField('FL_DATE', StringType(), True), \\\n",
    "        StructField('OP_UNIQUE_CARRIER', StringType(), True), \\\n",
    "        StructField('ORIGIN_AIRPORT_ID', IntegerType(), True), \\\n",
    "        StructField('ORIGIN_AIRPORT_SEQ_ID', IntegerType(), True), \\\n",
    "        StructField('ORIGIN_CITY_MARKET_ID', IntegerType(), True), \\\n",
    "        StructField('ORIGIN', StringType(), True), \\\n",
    "        StructField('ORIGIN_CITY_NAME', StringType(), True), \\\n",
    "        StructField('DEST_AIRPORT_ID', IntegerType(), True), \\\n",
    "        StructField('DEST_AIRPORT_SEQ_ID', IntegerType(), True), \\\n",
    "        StructField('DEST_CITY_MARKET_ID', IntegerType(), True), \\\n",
    "        StructField('DEST', StringType(), True), \\\n",
    "        StructField('DEST_CITY_NAME', StringType(), True), \\\n",
    "        StructField('DEP_DELAY', DoubleType(), True), \\\n",
    "        StructField('DEP_DELAY_NEW', DoubleType(), True), \\\n",
    "        StructField('DEP_DEL15', DoubleType(), True), \\\n",
    "        StructField('DEP_DELAY_GROUP', IntegerType(), True),\\\n",
    "        StructField('ARR_TIME', IntegerType(), True), \\\n",
    "        StructField('ARR_DELAY', DoubleType(), True), \\\n",
    "        StructField('ARR_DELAY_NEW', DoubleType(), True), \\\n",
    "        StructField('ARR_DEL15', DoubleType(), True), \\\n",
    "        StructField('ARR_DELAY_GROUP', IntegerType(), True), \\\n",
    "        StructField('CANCELLED', DoubleType(), True), \\\n",
    "        StructField('CARRIER_DELAY', DoubleType(), True), \\\n",
    "        StructField('WEATHER_DELAY', DoubleType(), True), \\\n",
    "        StructField('NAS_DELAY', DoubleType(), True), \\\n",
    "        StructField('SECURITY_DELAY', DoubleType(), True), \\\n",
    "        StructField('LATE_AIRCRAFT_DELAY', DoubleType(), True)] \\\n",
    "    )"
   ]
  },
  {
   "cell_type": "code",
   "execution_count": 43,
   "metadata": {},
   "outputs": [],
   "source": [
    "input_data = spark.read.csv(flight_directory, header=True, schema=flight_schema)"
   ]
  },
  {
   "cell_type": "markdown",
   "metadata": {},
   "source": [
    "#### Task: 'Calcula la cantidad promedio de retrasos en la llegada de vuelos en un aeropuerto específico.'"
   ]
  },
  {
   "cell_type": "code",
   "execution_count": 44,
   "metadata": {},
   "outputs": [],
   "source": [
    "## Get a specific airport destination\n",
    "filter_airport = input_data.filter(input_data.DEST_AIRPORT_ID == 11298)"
   ]
  },
  {
   "cell_type": "code",
   "execution_count": 45,
   "metadata": {},
   "outputs": [
    {
     "name": "stdout",
     "output_type": "stream",
     "text": [
      "+----+-----+------------+--------------------+-----------------+-----------------+---------------------+---------------------+------+----------------+---------------+-------------------+-------------------+----+--------------------+---------+-------------+---------+---------------+--------+---------+-------------+---------+---------------+---------+-------------+-------------+---------+--------------+-------------------+\n",
      "|YEAR|MONTH|DAY_OF_MONTH|             FL_DATE|OP_UNIQUE_CARRIER|ORIGIN_AIRPORT_ID|ORIGIN_AIRPORT_SEQ_ID|ORIGIN_CITY_MARKET_ID|ORIGIN|ORIGIN_CITY_NAME|DEST_AIRPORT_ID|DEST_AIRPORT_SEQ_ID|DEST_CITY_MARKET_ID|DEST|      DEST_CITY_NAME|DEP_DELAY|DEP_DELAY_NEW|DEP_DEL15|DEP_DELAY_GROUP|ARR_TIME|ARR_DELAY|ARR_DELAY_NEW|ARR_DEL15|ARR_DELAY_GROUP|CANCELLED|CARRIER_DELAY|WEATHER_DELAY|NAS_DELAY|SECURITY_DELAY|LATE_AIRCRAFT_DELAY|\n",
      "+----+-----+------------+--------------------+-----------------+-----------------+---------------------+---------------------+------+----------------+---------------+-------------------+-------------------+----+--------------------+---------+-------------+---------+---------------+--------+---------+-------------+---------+---------------+---------+-------------+-------------+---------+--------------+-------------------+\n",
      "|2015|   11|           1|11/1/2015 12:00:0...|               AA|            10140|              1014003|                30140|   ABQ| Albuquerque, NM|          11298|            1129804|              30194| DFW|Dallas/Fort Worth...|     -8.0|          0.0|      0.0|             -1|     859|     -6.0|          0.0|      0.0|             -1|      0.0|         NULL|         NULL|     NULL|          NULL|               NULL|\n",
      "|2015|   11|           1|11/1/2015 12:00:0...|               AA|            10140|              1014003|                30140|   ABQ| Albuquerque, NM|          11298|            1129804|              30194| DFW|Dallas/Fort Worth...|     -5.0|          0.0|      0.0|             -1|    1905|     -3.0|          0.0|      0.0|             -1|      0.0|         NULL|         NULL|     NULL|          NULL|               NULL|\n",
      "|2015|   11|           1|11/1/2015 12:00:0...|               AA|            10140|              1014003|                30140|   ABQ| Albuquerque, NM|          11298|            1129804|              30194| DFW|Dallas/Fort Worth...|     -4.0|          0.0|      0.0|             -1|    1443|    -11.0|          0.0|      0.0|             -1|      0.0|         NULL|         NULL|     NULL|          NULL|               NULL|\n",
      "|2015|   11|           1|11/1/2015 12:00:0...|               AA|            10140|              1014003|                30140|   ABQ| Albuquerque, NM|          11298|            1129804|              30194| DFW|Dallas/Fort Worth...|     -2.0|          0.0|      0.0|             -1|    1041|    -10.0|          0.0|      0.0|             -1|      0.0|         NULL|         NULL|     NULL|          NULL|               NULL|\n",
      "|2015|   11|           1|11/1/2015 12:00:0...|               AA|            10140|              1014003|                30140|   ABQ| Albuquerque, NM|          11298|            1129804|              30194| DFW|Dallas/Fort Worth...|     -2.0|          0.0|      0.0|             -1|    1317|     -8.0|          0.0|      0.0|             -1|      0.0|         NULL|         NULL|     NULL|          NULL|               NULL|\n",
      "|2015|   11|           1|11/1/2015 12:00:0...|               AA|            10140|              1014003|                30140|   ABQ| Albuquerque, NM|          11298|            1129804|              30194| DFW|Dallas/Fort Worth...|      7.0|          7.0|      0.0|              0|    1725|     17.0|         17.0|      1.0|              1|      0.0|          0.0|          0.0|     10.0|           0.0|                7.0|\n",
      "|2015|   11|           1|11/1/2015 12:00:0...|               AA|            10397|              1039705|                30397|   ATL|     Atlanta, GA|          11298|            1129804|              30194| DFW|Dallas/Fort Worth...|     -6.0|          0.0|      0.0|             -1|    1040|    -10.0|          0.0|      0.0|             -1|      0.0|         NULL|         NULL|     NULL|          NULL|               NULL|\n",
      "|2015|   11|           1|11/1/2015 12:00:0...|               AA|            10397|              1039705|                30397|   ATL|     Atlanta, GA|          11298|            1129804|              30194| DFW|Dallas/Fort Worth...|     -5.0|          0.0|      0.0|             -1|     905|    -14.0|          0.0|      0.0|             -1|      0.0|         NULL|         NULL|     NULL|          NULL|               NULL|\n",
      "|2015|   11|           1|11/1/2015 12:00:0...|               AA|            10397|              1039705|                30397|   ATL|     Atlanta, GA|          11298|            1129804|              30194| DFW|Dallas/Fort Worth...|     -5.0|          0.0|      0.0|             -1|    1732|    -11.0|          0.0|      0.0|             -1|      0.0|         NULL|         NULL|     NULL|          NULL|               NULL|\n",
      "|2015|   11|           1|11/1/2015 12:00:0...|               AA|            10397|              1039705|                30397|   ATL|     Atlanta, GA|          11298|            1129804|              30194| DFW|Dallas/Fort Worth...|      0.0|          0.0|      0.0|              0|    1231|    -17.0|          0.0|      0.0|             -2|      0.0|         NULL|         NULL|     NULL|          NULL|               NULL|\n",
      "|2015|   11|           1|11/1/2015 12:00:0...|               AA|            10397|              1039705|                30397|   ATL|     Atlanta, GA|          11298|            1129804|              30194| DFW|Dallas/Fort Worth...|      0.0|          0.0|      0.0|              0|    1437|      4.0|          4.0|      0.0|              0|      0.0|         NULL|         NULL|     NULL|          NULL|               NULL|\n",
      "|2015|   11|           1|11/1/2015 12:00:0...|               AA|            10397|              1039705|                30397|   ATL|     Atlanta, GA|          11298|            1129804|              30194| DFW|Dallas/Fort Worth...|      6.0|          6.0|      0.0|              0|    2059|     -3.0|          0.0|      0.0|             -1|      0.0|         NULL|         NULL|     NULL|          NULL|               NULL|\n",
      "|2015|   11|           1|11/1/2015 12:00:0...|               AA|            10397|              1039705|                30397|   ATL|     Atlanta, GA|          11298|            1129804|              30194| DFW|Dallas/Fort Worth...|     96.0|         96.0|      1.0|              6|    1742|    102.0|        102.0|      1.0|              6|      0.0|          8.0|          0.0|      6.0|           0.0|               88.0|\n",
      "|2015|   11|           1|11/1/2015 12:00:0...|               AA|            10423|              1042302|                30423|   AUS|      Austin, TX|          11298|            1129804|              30194| DFW|Dallas/Fort Worth...|     NULL|         NULL|     NULL|           NULL|    NULL|     NULL|         NULL|     NULL|           NULL|      1.0|         NULL|         NULL|     NULL|          NULL|               NULL|\n",
      "|2015|   11|           1|11/1/2015 12:00:0...|               AA|            10423|              1042302|                30423|   AUS|      Austin, TX|          11298|            1129804|              30194| DFW|Dallas/Fort Worth...|     -8.0|          0.0|      0.0|             -1|     946|     -5.0|          0.0|      0.0|             -1|      0.0|         NULL|         NULL|     NULL|          NULL|               NULL|\n",
      "|2015|   11|           1|11/1/2015 12:00:0...|               AA|            10423|              1042302|                30423|   AUS|      Austin, TX|          11298|            1129804|              30194| DFW|Dallas/Fort Worth...|     -2.0|          0.0|      0.0|             -1|     734|    -10.0|          0.0|      0.0|             -1|      0.0|         NULL|         NULL|     NULL|          NULL|               NULL|\n",
      "|2015|   11|           1|11/1/2015 12:00:0...|               AA|            10423|              1042302|                30423|   AUS|      Austin, TX|          11298|            1129804|              30194| DFW|Dallas/Fort Worth...|     -2.0|          0.0|      0.0|             -1|     800|    -15.0|          0.0|      0.0|             -1|      0.0|         NULL|         NULL|     NULL|          NULL|               NULL|\n",
      "|2015|   11|           1|11/1/2015 12:00:0...|               AA|            10423|              1042302|                30423|   AUS|      Austin, TX|          11298|            1129804|              30194| DFW|Dallas/Fort Worth...|      1.0|          1.0|      0.0|              0|    1118|     -2.0|          0.0|      0.0|             -1|      0.0|         NULL|         NULL|     NULL|          NULL|               NULL|\n",
      "|2015|   11|           1|11/1/2015 12:00:0...|               AA|            10423|              1042302|                30423|   AUS|      Austin, TX|          11298|            1129804|              30194| DFW|Dallas/Fort Worth...|     14.0|         14.0|      0.0|              0|    1210|     14.0|         14.0|      0.0|              0|      0.0|         NULL|         NULL|     NULL|          NULL|               NULL|\n",
      "|2015|   11|           1|11/1/2015 12:00:0...|               AA|            10423|              1042302|                30423|   AUS|      Austin, TX|          11298|            1129804|              30194| DFW|Dallas/Fort Worth...|     60.0|         60.0|      1.0|              4|    2058|     60.0|         60.0|      1.0|              4|      0.0|         25.0|          0.0|      0.0|           0.0|               35.0|\n",
      "+----+-----+------------+--------------------+-----------------+-----------------+---------------------+---------------------+------+----------------+---------------+-------------------+-------------------+----+--------------------+---------+-------------+---------+---------------+--------+---------+-------------+---------+---------------+---------+-------------+-------------+---------+--------------+-------------------+\n",
      "only showing top 20 rows\n",
      "\n"
     ]
    }
   ],
   "source": [
    "filter_airport.show()"
   ]
  },
  {
   "cell_type": "code",
   "execution_count": 46,
   "metadata": {},
   "outputs": [],
   "source": [
    "## If the arrival delay is equal to 1, it means there was a delay equal or greater than 15 minutes\n",
    "## Group by carrier\n",
    "arrival_delay = filter_airport.filter(filter_airport.ARR_DEL15 == 1).\\\n",
    "    groupBy('OP_UNIQUE_CARRIER').agg(func.round(func.avg('ARR_DELAY'), 2).alias('AVG_ARRIVAL_DELAY')).\\\n",
    "    orderBy('AVG_ARRIVAL_DELAY', ascending=False)"
   ]
  },
  {
   "cell_type": "code",
   "execution_count": 47,
   "metadata": {},
   "outputs": [
    {
     "name": "stdout",
     "output_type": "stream",
     "text": [
      "+-----------------+-----------------+\n",
      "|OP_UNIQUE_CARRIER|AVG_ARRIVAL_DELAY|\n",
      "+-----------------+-----------------+\n",
      "|               MQ|            83.09|\n",
      "|               EV|            76.78|\n",
      "|               AA|            70.15|\n",
      "|               NK|            54.84|\n",
      "|               UA|            54.09|\n",
      "|               OO|            52.94|\n",
      "|               F9|            50.53|\n",
      "|               DL|             42.0|\n",
      "|               AS|            41.29|\n",
      "|               B6|            28.92|\n",
      "+-----------------+-----------------+\n",
      "\n"
     ]
    }
   ],
   "source": [
    "## Show the final query\n",
    "arrival_delay.show()"
   ]
  },
  {
   "cell_type": "markdown",
   "metadata": {},
   "source": [
    "#### Task: 'Encuentra las 10 rutas de vuelo más populares (pares de aeropuertos) en términos de la cantidad de vuelos.'"
   ]
  },
  {
   "cell_type": "code",
   "execution_count": 48,
   "metadata": {},
   "outputs": [],
   "source": [
    "input_data.createOrReplaceTempView('flights')"
   ]
  },
  {
   "cell_type": "code",
   "execution_count": 49,
   "metadata": {},
   "outputs": [],
   "source": [
    "## Group by ORIGIN and DEST in order to count how many records appear\n",
    "popular_flights = spark.sql('SELECT \\\n",
    "                                ORIGIN, DEST, COUNT(1) AS RATE \\\n",
    "                            FROM flights \\\n",
    "                            GROUP BY ORIGIN, DEST \\\n",
    "                            ORDER BY COUNT(1) DESC \\\n",
    "                            LIMIT 10')"
   ]
  },
  {
   "cell_type": "code",
   "execution_count": 50,
   "metadata": {},
   "outputs": [
    {
     "name": "stdout",
     "output_type": "stream",
     "text": [
      "+------+----+----+\n",
      "|ORIGIN|DEST|RATE|\n",
      "+------+----+----+\n",
      "|   SFO| LAX|1419|\n",
      "|   LAX| SFO|1386|\n",
      "|   LAX| JFK| 962|\n",
      "|   JFK| LAX| 962|\n",
      "|   LAS| LAX| 870|\n",
      "|   LAX| LAS| 867|\n",
      "|   LGA| ORD| 862|\n",
      "|   ORD| LGA| 852|\n",
      "|   SEA| LAX| 797|\n",
      "|   LAX| SEA| 792|\n",
      "+------+----+----+\n",
      "\n"
     ]
    }
   ],
   "source": [
    "popular_flights.show()"
   ]
  },
  {
   "cell_type": "code",
   "execution_count": 51,
   "metadata": {},
   "outputs": [],
   "source": [
    "spark.stop()"
   ]
  },
  {
   "cell_type": "markdown",
   "metadata": {},
   "source": [
    "## Exercise 3 - Pandas and Spark"
   ]
  },
  {
   "cell_type": "code",
   "execution_count": 52,
   "metadata": {},
   "outputs": [],
   "source": [
    "movie_path  = movie_directory + 'movies.csv'\n",
    "rating_path = movie_directory + 'ratings.csv'\n",
    "\n",
    "rating_schema =  StructType([\\\n",
    "        StructField('MovieID', IntegerType(), True), \\\n",
    "        StructField('MovieCritic', StringType(), True), \\\n",
    "        StructField('Rating', DoubleType(), True)])\n",
    "\n",
    "spark = SparkSession.builder.appName('MovieAnalyze').getOrCreate()"
   ]
  },
  {
   "cell_type": "code",
   "execution_count": 53,
   "metadata": {},
   "outputs": [],
   "source": [
    "movie_data = pd.read_csv(movie_path, delimiter=',')\n",
    "ratings    = spark.read.csv(rating_path, header=True, schema=rating_schema)"
   ]
  },
  {
   "cell_type": "code",
   "execution_count": 54,
   "metadata": {},
   "outputs": [
    {
     "data": {
      "text/html": [
       "<div>\n",
       "<style scoped>\n",
       "    .dataframe tbody tr th:only-of-type {\n",
       "        vertical-align: middle;\n",
       "    }\n",
       "\n",
       "    .dataframe tbody tr th {\n",
       "        vertical-align: top;\n",
       "    }\n",
       "\n",
       "    .dataframe thead th {\n",
       "        text-align: right;\n",
       "    }\n",
       "</style>\n",
       "<table border=\"1\" class=\"dataframe\">\n",
       "  <thead>\n",
       "    <tr style=\"text-align: right;\">\n",
       "      <th></th>\n",
       "      <th>MovieID</th>\n",
       "      <th>Title</th>\n",
       "      <th>Year</th>\n",
       "    </tr>\n",
       "  </thead>\n",
       "  <tbody>\n",
       "    <tr>\n",
       "      <th>0</th>\n",
       "      <td>1</td>\n",
       "      <td>'Movie 1'</td>\n",
       "      <td>2020</td>\n",
       "    </tr>\n",
       "    <tr>\n",
       "      <th>1</th>\n",
       "      <td>2</td>\n",
       "      <td>'Movie 2'</td>\n",
       "      <td>2019</td>\n",
       "    </tr>\n",
       "    <tr>\n",
       "      <th>2</th>\n",
       "      <td>3</td>\n",
       "      <td>'Movie 3'</td>\n",
       "      <td>2021</td>\n",
       "    </tr>\n",
       "    <tr>\n",
       "      <th>3</th>\n",
       "      <td>4</td>\n",
       "      <td>'Movie 4'</td>\n",
       "      <td>2018</td>\n",
       "    </tr>\n",
       "  </tbody>\n",
       "</table>\n",
       "</div>"
      ],
      "text/plain": [
       "   MovieID      Title  Year\n",
       "0        1  'Movie 1'  2020\n",
       "1        2  'Movie 2'  2019\n",
       "2        3  'Movie 3'  2021\n",
       "3        4  'Movie 4'  2018"
      ]
     },
     "execution_count": 54,
     "metadata": {},
     "output_type": "execute_result"
    }
   ],
   "source": [
    "movie_data"
   ]
  },
  {
   "cell_type": "code",
   "execution_count": 55,
   "metadata": {},
   "outputs": [
    {
     "name": "stdout",
     "output_type": "stream",
     "text": [
      "+-------+----------------+------+\n",
      "|MovieID|     MovieCritic|Rating|\n",
      "+-------+----------------+------+\n",
      "|      1|'Movie Critic 1'|   4.5|\n",
      "|      2|'Movie Critic 2'|   3.8|\n",
      "|      3|'Movie Critic 1'|   4.2|\n",
      "|      4|'Movie Critic 3'|   4.7|\n",
      "+-------+----------------+------+\n",
      "\n"
     ]
    }
   ],
   "source": [
    "ratings.show()"
   ]
  },
  {
   "cell_type": "markdown",
   "metadata": {},
   "source": [
    "#### Task: 'Combina estos dos conjuntos de datos para obtener una tabla que muestre el título de la película, el año de lanzamiento y la puntuación promedio de las críticas.'"
   ]
  },
  {
   "cell_type": "code",
   "execution_count": 57,
   "metadata": {},
   "outputs": [],
   "source": [
    "movie_data_spk = spark.createDataFrame(movie_data)"
   ]
  },
  {
   "cell_type": "code",
   "execution_count": 58,
   "metadata": {},
   "outputs": [
    {
     "name": "stdout",
     "output_type": "stream",
     "text": [
      "+-------+---------+----+\n",
      "|MovieID|    Title|Year|\n",
      "+-------+---------+----+\n",
      "|      1|'Movie 1'|2020|\n",
      "|      2|'Movie 2'|2019|\n",
      "|      3|'Movie 3'|2021|\n",
      "|      4|'Movie 4'|2018|\n",
      "+-------+---------+----+\n",
      "\n"
     ]
    }
   ],
   "source": [
    "movie_data_spk.show()"
   ]
  },
  {
   "cell_type": "code",
   "execution_count": 59,
   "metadata": {},
   "outputs": [],
   "source": [
    "rating_join = movie_data_spk.join(ratings, on='MovieID').\\\n",
    "                groupBy(['MovieID', 'Title', 'Year']).\\\n",
    "                agg(func.round(func.avg('Rating'), 2).alias('Rating AVG')).\\\n",
    "                sort('MovieID')"
   ]
  },
  {
   "cell_type": "code",
   "execution_count": 60,
   "metadata": {},
   "outputs": [
    {
     "name": "stdout",
     "output_type": "stream",
     "text": [
      "+-------+---------+----+----------+\n",
      "|MovieID|    Title|Year|Rating AVG|\n",
      "+-------+---------+----+----------+\n",
      "|      1|'Movie 1'|2020|       4.5|\n",
      "|      2|'Movie 2'|2019|       3.8|\n",
      "|      3|'Movie 3'|2021|       4.2|\n",
      "|      4|'Movie 4'|2018|       4.7|\n",
      "+-------+---------+----+----------+\n",
      "\n"
     ]
    }
   ],
   "source": [
    "rating_join.select(['MovieID', 'Title', 'Year', 'Rating AVG']).show()"
   ]
  },
  {
   "cell_type": "code",
   "execution_count": 61,
   "metadata": {},
   "outputs": [],
   "source": [
    "spark.stop()"
   ]
  },
  {
   "cell_type": "markdown",
   "metadata": {},
   "source": [
    "## Excercise 4 -  Web Scraping"
   ]
  },
  {
   "cell_type": "code",
   "execution_count": 62,
   "metadata": {},
   "outputs": [],
   "source": [
    "def get_btc_price(url):\n",
    "    \"\"\"\n",
    "    Getting the current price of BTC.\n",
    "\n",
    "    Parameters\n",
    "    ----------\n",
    "\n",
    "    url : string\n",
    "          Bitcoin Price Today URL.\n",
    "    \n",
    "    Return\n",
    "    ------\n",
    "\n",
    "    btc_price : float\n",
    "               The bitcoin price today.\n",
    "    \"\"\"\n",
    "\n",
    "    btc_price = 0\n",
    "\n",
    "    try:\n",
    "        \n",
    "        response = requests.get(url)\n",
    "\n",
    "        if response.status_code == 200:\n",
    "\n",
    "            soup = BeautifulSoup(response.text, 'html.parser')\n",
    "\n",
    "            ## Another approach\n",
    "            # spans     = soup.find_all('span', class_='sc-f70bb44c-0 jxpCgO base-text')\n",
    "            # btc_price = spans[0].get_text()\n",
    "\n",
    "            divs = soup.find_all('div', class_='sc-aef7b723-0 sc-43ae580a-1 dCXUwm')\n",
    "\n",
    "            for div in divs:\n",
    "                span_text = div.find('span').get_text()\n",
    "\n",
    "                if span_text == 'USD':\n",
    "                    btc_price = div.find('input')['value']\n",
    "                \n",
    "    except Exception as e:\n",
    "        print(f'An error occurred while trying to get the BTC price: {e}')\n",
    "\n",
    "    return btc_price"
   ]
  },
  {
   "cell_type": "code",
   "execution_count": 64,
   "metadata": {},
   "outputs": [
    {
     "name": "stdout",
     "output_type": "stream",
     "text": [
      "The BTC USD Price: 36592.37\n"
     ]
    }
   ],
   "source": [
    "print(f\"The BTC USD Price: {get_btc_price(url_bitcoin)}\")"
   ]
  },
  {
   "cell_type": "markdown",
   "metadata": {},
   "source": [
    "## Theoretical Section"
   ]
  },
  {
   "cell_type": "markdown",
   "metadata": {},
   "source": [
    "#### 1. ¿Cuál de las siguientes plataformas de Microsoft es una solución de análisis de big data en la nube?\n",
    "\n",
    "- Answer: b) Azure Synapse analytics\n",
    "\n",
    "#### 2. En el contexto de Azure Data Factory, ¿cuál de las siguientes actividades se utiliza para transformar y limpiar datos en un flujo de trabajo?\n",
    "\n",
    "- Answer: c) Data Flow\n",
    "\n",
    "#### 3. ¿Cuál de las siguientes opciones es una característica clave de Apache Spark que permite procesar datos en memoria para un rendimiento más rápido?\n",
    "\n",
    "- Answer: d) Resilient Distributed Dataset (RDD)\n",
    "\n",
    "#### 4. En el contexto de Pandas, ¿cuál de las siguientes operaciones se utiliza para eliminar filas duplicadas de un DataFrame?\n",
    "\n",
    "- Answer: b) df.drop_duplicates()\n",
    "\n",
    "#### 5. ¿Qué lenguaje de programación se utiliza comúnmente en Azure Databricks para el procesamiento de datos y análisis?\n",
    "\n",
    "- Answer: c) Scala"
   ]
  },
  {
   "cell_type": "code",
   "execution_count": null,
   "metadata": {},
   "outputs": [],
   "source": []
  }
 ],
 "metadata": {
  "kernelspec": {
   "display_name": "de_solvex",
   "language": "python",
   "name": "python3"
  },
  "language_info": {
   "codemirror_mode": {
    "name": "ipython",
    "version": 3
   },
   "file_extension": ".py",
   "mimetype": "text/x-python",
   "name": "python",
   "nbconvert_exporter": "python",
   "pygments_lexer": "ipython3",
   "version": "3.11.5"
  }
 },
 "nbformat": 4,
 "nbformat_minor": 2
}
